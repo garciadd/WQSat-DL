{
 "cells": [
  {
   "cell_type": "code",
   "execution_count": 30,
   "metadata": {},
   "outputs": [],
   "source": [
    "from wqsat_dl import utils"
   ]
  },
  {
   "cell_type": "markdown",
   "metadata": {},
   "source": [
    "## Create config yaml"
   ]
  },
  {
   "cell_type": "code",
   "execution_count": 31,
   "metadata": {},
   "outputs": [
    {
     "name": "stdout",
     "output_type": "stream",
     "text": [
      "Config file created successfully.\n"
     ]
    }
   ],
   "source": [
    "# Create the 'config.yaml' file with default values\n",
    "utils.create_config()"
   ]
  },
  {
   "cell_type": "code",
   "execution_count": 37,
   "metadata": {},
   "outputs": [
    {
     "name": "stdout",
     "output_type": "stream",
     "text": [
      "Config file updated successfully.\n"
     ]
    }
   ],
   "source": [
    "# Update settings\n",
    "utils.update_config(landsat_user=\"new_user\", data_path=\"/new/data/path\")"
   ]
  },
  {
   "cell_type": "code",
   "execution_count": 33,
   "metadata": {},
   "outputs": [
    {
     "name": "stdout",
     "output_type": "stream",
     "text": [
      "{'landsat': {'password': '*****', 'user': 'new_user'}, 'sentinel': {'password': '*****', 'user': '*****'}}\n"
     ]
    }
   ],
   "source": [
    "# Load the credentials from the 'config.yaml' file\n",
    "credentials = utils.load_credentials()\n",
    "print(credentials)"
   ]
  },
  {
   "cell_type": "code",
   "execution_count": null,
   "metadata": {},
   "outputs": [],
   "source": [
    "# Load the data_path from the 'config.yaml' file\n",
    "data_path = utils.load_data_path()\n",
    "print(f\"Data will be stored in: {data_path}\")"
   ]
  },
  {
   "cell_type": "markdown",
   "metadata": {},
   "source": [
    "## Regions yaml"
   ]
  },
  {
   "cell_type": "code",
   "execution_count": 36,
   "metadata": {},
   "outputs": [
    {
     "name": "stdout",
     "output_type": "stream",
     "text": [
      "File 'regions.yaml' created successfully with region 'Santander'.\n"
     ]
    }
   ],
   "source": [
    "# Create the 'regions.yaml' file with example regions and their coordinates\n",
    "utils.create_regions()"
   ]
  },
  {
   "cell_type": "code",
   "execution_count": 26,
   "metadata": {},
   "outputs": [
    {
     "name": "stdout",
     "output_type": "stream",
     "text": [
      "Regions in the file: dict_keys(['Santander'])\n"
     ]
    }
   ],
   "source": [
    "# Show all regions and their coordinates in the file\n",
    "utils.get_regions()"
   ]
  },
  {
   "cell_type": "code",
   "execution_count": 38,
   "metadata": {},
   "outputs": [
    {
     "name": "stdout",
     "output_type": "stream",
     "text": [
      "Region 'CdP' added successfully.\n"
     ]
    }
   ],
   "source": [
    "# Update the file by adding new regions with coordinates\n",
    "utils.update_regions('CdP', W=-2.830, S=41.820, E=-2.690, N=41.910)"
   ]
  },
  {
   "cell_type": "code",
   "execution_count": 28,
   "metadata": {},
   "outputs": [
    {
     "name": "stdout",
     "output_type": "stream",
     "text": [
      "Regions in the file: dict_keys(['CdP', 'Santander'])\n"
     ]
    }
   ],
   "source": [
    "# Show all regions and their coordinates in the file\n",
    "utils.get_regions()"
   ]
  },
  {
   "cell_type": "code",
   "execution_count": 29,
   "metadata": {},
   "outputs": [
    {
     "name": "stdout",
     "output_type": "stream",
     "text": [
      "Coordinates of 'CdP': {'E': -2.69, 'N': 41.91, 'S': 41.82, 'W': -2.83}\n"
     ]
    }
   ],
   "source": [
    "# Load the coordinates\n",
    "coordinates = utils.get_coordinates('CdP')\n",
    "print(\"Coordinates of 'CdP':\", coordinates)"
   ]
  }
 ],
 "metadata": {
  "kernelspec": {
   "display_name": ".venv",
   "language": "python",
   "name": "python3"
  },
  "language_info": {
   "codemirror_mode": {
    "name": "ipython",
    "version": 3
   },
   "file_extension": ".py",
   "mimetype": "text/x-python",
   "name": "python",
   "nbconvert_exporter": "python",
   "pygments_lexer": "ipython3",
   "version": "3.10.12"
  }
 },
 "nbformat": 4,
 "nbformat_minor": 2
}
