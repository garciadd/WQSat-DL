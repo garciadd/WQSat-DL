{
 "cells": [
  {
   "cell_type": "markdown",
   "metadata": {},
   "source": [
    "### 0. Import package"
   ]
  },
  {
   "cell_type": "code",
   "execution_count": null,
   "metadata": {},
   "outputs": [],
   "source": [
    "from wqsat_get import utils\n",
    "from wqsat_get import sentinel_get"
   ]
  },
  {
   "cell_type": "markdown",
   "metadata": {},
   "source": [
    "### 1. Search by tile name (different product types and levels)"
   ]
  },
  {
   "cell_type": "code",
   "execution_count": null,
   "metadata": {},
   "outputs": [],
   "source": [
    "# Sentinel-2, Level 2, product type S2MSI2A\n",
    "downloader = sentinel_get.Download(tile=\"S2C_MSIL2A_20250206T110301_N0511_R094_T30TWM_20250206T145957.SAFE\")\n",
    "results = downloader.search()\n",
    "results\n",
    "\n",
    "# # Sentinel-2, Level 1, product type S2MSI1C\n",
    "# downloader = sentinel_get.Download(tile=\"S2B_MSIL1C_20250201T110159_N0511_R094_T30TWM_20250201T114539.SAFE\")\n",
    "# results = downloader.search()\n",
    "# print(results)\n",
    "\n",
    "# # Sentinel-3, Level 2, product type OL_2_WFR___\n",
    "# downloader = sentinel_get.Download(tile=\"S3A_OL_2_WFR____20250209T103153_20250209T103453_20250209T122811_0179_122_222_2160_MAR_O_NR_003.SEN3\")\n",
    "# results = downloader.search()\n",
    "# print(results)\n",
    "\n",
    "# # Sentinel-3, Level 2, product type OL_2_LFR___\n",
    "downloader = sentinel_get.Download(tile=\"S3B_OL_2_LFR____20250204T102556_20250204T102856_20250205T111038_0179_103_008_2340_ESA_O_NT_003.SEN3\")\n",
    "results = downloader.search()\n",
    "print(results)\n",
    "\n",
    "# # Sentinel-3, Level 1, product type OL_1_EFR___\n",
    "# downloader = sentinel_get.Download(tile=\"S3A_OL_1_EFR____20210705T102429_20210705T102729_20210706T153631_0180_073_336_2160_LN1_O_NT_002.SEN3\")\n",
    "# results = downloader.search()\n",
    "# print(results)"
   ]
  },
  {
   "cell_type": "markdown",
   "metadata": {},
   "source": [
    "### 2. Search by a list of tiles (mixing different types and levels)"
   ]
  },
  {
   "cell_type": "code",
   "execution_count": null,
   "metadata": {},
   "outputs": [],
   "source": [
    "# Search by a list of tiles\n",
    "downloader = sentinel_get.Download(tiles_list=[\"S2C_MSIL2A_20250206T110301_N0511_R094_T30TWM_20250206T145957.SAFE\",\n",
    "                                               \"S2B_MSIL1C_20250201T110159_N0511_R094_T30TWM_20250201T114539.SAFE\",\n",
    "                                               \"S3A_OL_2_WFR____20250209T103153_20250209T103453_20250209T122811_0179_122_222_2160_MAR_O_NR_003.SEN3\",\n",
    "                                               \"S3A_OL_1_EFR____20210705T102429_20210705T102729_20210706T153631_0180_073_336_2160_LN1_O_NT_002.SEN3\"])\n",
    "results = downloader.search()\n",
    "results"
   ]
  },
  {
   "cell_type": "markdown",
   "metadata": {},
   "source": [
    "### 3. Search by geospatial and temporal parameters"
   ]
  },
  {
   "cell_type": "code",
   "execution_count": null,
   "metadata": {},
   "outputs": [],
   "source": [
    "# Sentinel-2, product type S2MSI2A\n",
    "downloader = sentinel_get.Download(start_date=\"2024-01-01\", end_date=\"2024-01-15\",\n",
    "                      coordinates={\"N\": 39.8, \"S\": 39.2, \"E\": 3.6, \"W\": 2.9},\n",
    "                      platform=\"SENTINEL-2\", product_type=\"S2MSI2A\", cloud=20)\n",
    "results = downloader.search()\n",
    "results\n",
    "\n",
    "# # Sentinel-2, over a single point (latitude, longitude)\n",
    "# downloader = sentinel_get.Download(start_date=\"2024-01-01\", end_date=\"2024-01-15\",\n",
    "#                       coordinates=(39.5, 3.2),\n",
    "#                       platform=\"SENTINEL-2\", product_type=\"S2MSI2A\", cloud=20)\n",
    "# results = downloader.search()\n",
    "# results\n",
    "\n",
    "# # Sentinel-3, over a single point (latitude, longitude) \n",
    "# downloader = sentinel_get.Download(start_date=\"2024-01-01\", end_date=\"2024-01-15\",\n",
    "#                       coordinates=(39.5, 3.2),\n",
    "#                       platform=\"SENTINEL-3\", product_type=\"OL_1_EFR___\")\n",
    "# results = downloader.search()\n",
    "# print(results)\n",
    "\n",
    "# # Sentinel-3, over a single point (latitude, longitude) \n",
    "# downloader = sentinel_get.Download(start_date=\"2024-01-01\", end_date=\"2024-01-15\",\n",
    "#                       coordinates={\"N\": 39.8, \"S\": 39.2, \"E\": 3.6, \"W\": 2.9},\n",
    "#                       platform=\"SENTINEL-3\", product_type=\"OL_2_WFR___\")\n",
    "# results = downloader.search()\n",
    "# print(results)"
   ]
  },
  {
   "cell_type": "markdown",
   "metadata": {},
   "source": [
    "### 4. Search by region and temporal parameters"
   ]
  },
  {
   "cell_type": "code",
   "execution_count": null,
   "metadata": {},
   "outputs": [],
   "source": [
    "coordinates = utils.get_coordinates('CdP')\n",
    "downloader = sentinel_get.Download(start_date=\"2024-01-01\", end_date=\"2024-01-15\",\n",
    "                      coordinates=coordinates,\n",
    "                      platform=\"SENTINEL-2\", product_type=\"S2MSI2A\", cloud=20)\n",
    "results = downloader.search()\n",
    "results"
   ]
  },
  {
   "cell_type": "markdown",
   "metadata": {},
   "source": [
    "### 5. Download"
   ]
  },
  {
   "cell_type": "code",
   "execution_count": null,
   "metadata": {},
   "outputs": [],
   "source": [
    "downloader.download()"
   ]
  },
  {
   "cell_type": "code",
   "execution_count": null,
   "metadata": {},
   "outputs": [],
   "source": []
  }
 ],
 "metadata": {
  "kernelspec": {
   "display_name": "Python (WqSat_Get)",
   "language": "python",
   "name": "wqget"
  },
  "language_info": {
   "codemirror_mode": {
    "name": "ipython",
    "version": 3
   },
   "file_extension": ".py",
   "mimetype": "text/x-python",
   "name": "python",
   "nbconvert_exporter": "python",
   "pygments_lexer": "ipython3",
   "version": "3.12.3"
  }
 },
 "nbformat": 4,
 "nbformat_minor": 4
}
