{
 "cells": [
  {
   "cell_type": "code",
   "execution_count": 1,
   "metadata": {},
   "outputs": [],
   "source": [
    "import datetime\n",
    "\n",
    "from wqsat_get import utils\n",
    "from wqsat_get import sentinel_get"
   ]
  },
  {
   "cell_type": "markdown",
   "metadata": {},
   "source": [
    "## Download Sentinel-2"
   ]
  },
  {
   "cell_type": "code",
   "execution_count": 2,
   "metadata": {},
   "outputs": [
    {
     "name": "stdout",
     "output_type": "stream",
     "text": [
      "region: CdP\n",
      "tiles between 2023-06-10 and 2023-06-21\n",
      "Directory /home/dani/github/data/ set as data_path\n",
      "Authorized OK\n",
      "Retrieving 2 results \n",
      "\n",
      "Product S2B_MSIL1C_20230612T105629_N0509_R094_T30TWM_20230612T113811.SAFE online\n",
      "Already downloaded \n",
      "\n",
      "Product S2A_MSIL1C_20230617T105621_N0509_R094_T30TWM_20230617T162021.SAFE online\n",
      "Already downloaded \n",
      "\n"
     ]
    }
   ],
   "source": [
    "# Download Sentinel-2:\n",
    "region = 'CdP'\n",
    "coord = utils.get_coordinates(region)\n",
    "\n",
    "sd = '2023-06-10'\n",
    "ed = '2023-06-21'\n",
    "print ('region: {}'.format(region))\n",
    "print ('tiles between {} and {}'.format(sd, ed))\n",
    "\n",
    "args = {'start_date':datetime.datetime.strptime(sd, \"%Y-%m-%d\"),\n",
    "        'end_date':datetime.datetime.strptime(ed, \"%Y-%m-%d\"),\n",
    "        'coordinates':coord,\n",
    "        'platform': 'Sentinel-2',\n",
    "        'product_type':'S2MSI1C',\n",
    "        'cloud':90}\n",
    "\n",
    "#download sentinel files\n",
    "s2 = sentinel_get.Download(**args)\n",
    "downloaded, pending = s2.download()"
   ]
  },
  {
   "cell_type": "markdown",
   "metadata": {},
   "source": [
    "## Download Sentinel-3"
   ]
  },
  {
   "cell_type": "code",
   "execution_count": null,
   "metadata": {},
   "outputs": [],
   "source": [
    "# Download Sentinel-3:\n",
    "region = 'CdP'\n",
    "coord = utils.get_coordinates(region)\n",
    "\n",
    "sd = '2023-04-10'\n",
    "ed = '2023-04-15'\n",
    "print ('region: {}'.format(region))\n",
    "print ('tiles between {} and {}'.format(sd, ed))\n",
    "\n",
    "args = {'start_date':datetime.datetime.strptime(sd, \"%Y-%m-%d\"),\n",
    "        'end_date':datetime.datetime.strptime(ed, \"%Y-%m-%d\"),\n",
    "        'coordinates':coord,\n",
    "        'platform': 'SENTINEL-3',\n",
    "        'product_type':'OL_1_EFR___',\n",
    "        'cloud':10}\n",
    "\n",
    "#download sentinel files\n",
    "s3 = sentinel_get.Download(**args)\n",
    "downloaded, pending = s3.download()"
   ]
  }
 ],
 "metadata": {
  "kernelspec": {
   "display_name": ".venv",
   "language": "python",
   "name": "python3"
  },
  "language_info": {
   "codemirror_mode": {
    "name": "ipython",
    "version": 3
   },
   "file_extension": ".py",
   "mimetype": "text/x-python",
   "name": "python",
   "nbconvert_exporter": "python",
   "pygments_lexer": "ipython3",
   "version": "3.10.12"
  }
 },
 "nbformat": 4,
 "nbformat_minor": 2
}
